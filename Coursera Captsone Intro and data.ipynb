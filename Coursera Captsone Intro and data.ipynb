{
 "cells": [
  {
   "cell_type": "markdown",
   "metadata": {},
   "source": [
    "# A: Introduction"
   ]
  },
  {
   "cell_type": "markdown",
   "metadata": {},
   "source": [
    "India, a country in South Asia, is the second-most populous country and the most populous democracy in the world, with the population of about **135.26 crores(2018)**. It has a population density of about **454.94 inhabitants per square kilometer**.\n",
    "With 29 states and 7 union territories, India is a place with enormous growth. In a diverse country like this, there is audience for almost everything, may it be art, science, sports, culture, technology or even farming. Along with the interesting history and mythology, the variety in the attire, nature, language speaks about the quality and versatility of life in the country.\n"
   ]
  },
  {
   "cell_type": "markdown",
   "metadata": {},
   "source": [
    "## **A1: Description and Discussion of Background:**\n",
    "Many students travel across the country for education, jobs, and to settle down. The main concern, whenever you move to a new city, is a house to stay in. Obviously, you will want to search for a good neighborhood, and this project, will give an idea as to how to select and what to choose, based on your requirements.\n",
    "\n",
    "The majority of the population in India is middle class. Buying a real estate in a country as populated as India can be a real problem, especially when you have just started earning. Hence, rented apartments seem to be the new trend among the generation. The young generation does not prefer stability, and the short rent agreements allow you to move frequently. This analysis will also help the investors/ businessmen to decide where there is more scope.\n",
    "\n",
    "The main cities in India are also the centers for the migrants, always looking for jobs. Hence, there can never be shortage of employees. Depending on the stream of the business/startup (tech, sports centers, education hubs, restaurants, and transportation), the choice of a city differs.\n",
    " Pune is called as the education hub of India.\n",
    "Mumbai is the city of dreams, the city that never sleeps. \n",
    " Surat is called as the city of mirrors and mirages, a huge production centre.\n",
    " Delhi, the capital of the country, is rich in everything, the historical places, the culture, and has tremendous scope for the government jobs.\n",
    "The cities have mixed and intertwined structure. Comparing the nearby venues and the average rent values in each city, different categories of  groups of cities can be made .\n"
   ]
  },
  {
   "cell_type": "markdown",
   "metadata": {},
   "source": [
    "## **A2: Data Description:**\n",
    "To consider the above idea, I collected the data as mentioned below:\n",
    "1. I used **Foursquare API** to get the most common venues in the top 5 cities.\n",
    "2. I collected the average housing rent values of 106 cities from the link: https://www.makaan.com/price-trends\n",
    "3. I used the **geopy** library to get the coordinates of each of the 106 cities and folium library to plot them on the map.\n"
   ]
  },
  {
   "cell_type": "markdown",
   "metadata": {},
   "source": [
    "# B: Data and Methodology:"
   ]
  },
  {
   "cell_type": "markdown",
   "metadata": {},
   "source": [
    "As a database, I used GitHub repository in my study. The main data consists of the columns: ***City, 1bk_avg_rent, 2bhk_avg_rent, 3bhk_avg_rent, latitude, longitude*** information and plotted them on the map, as shown below.\n",
    "\n",
    "![](IndiaCities.jpg)\n",
    "\n",
    "I then made a different dataframe for the **top 10** cities.\n",
    "\n",
    "![](Top10Cities.JPG)\n",
    "\n",
    "\n",
    "I then plotted them on map too.\n",
    "\n",
    "![](Top10Citiesmap.jpg)"
   ]
  },
  {
   "cell_type": "markdown",
   "metadata": {},
   "source": [
    "I utilized **Foursquare API** to explore the venues of top 5 countries. I set the radius 500m and the limit 100 for each.\n",
    "\n",
    "### The venues of the following cities were returned by Foursquare API:\n",
    "    \n",
    "1. **Ahmedabad**\n",
    "\n",
    "![](Ahmedabadvenues.JPG)\n",
    "\n",
    "2. **Bangalore**\n",
    "\n",
    "![](Bangalorevenues.JPG)\n",
    "\n",
    "3. **Delhi**\n",
    "\n",
    "![](Delhivenues.JPG)\n",
    "\n",
    "4. **Mumbai**\n",
    "\n",
    "![](Mumbaivenues.JPG)\n",
    "\n",
    "5.**Pune**\n",
    "\n",
    "![](Punevenues.JPG)"
   ]
  },
  {
   "cell_type": "markdown",
   "metadata": {},
   "source": [
    "We can increase the number of venues with more latitude longitude information."
   ]
  },
  {
   "cell_type": "code",
   "execution_count": null,
   "metadata": {},
   "outputs": [],
   "source": []
  }
 ],
 "metadata": {
  "kernelspec": {
   "display_name": "Python",
   "language": "python",
   "name": "conda-env-python-py"
  },
  "language_info": {
   "codemirror_mode": {
    "name": "ipython",
    "version": 3
   },
   "file_extension": ".py",
   "mimetype": "text/x-python",
   "name": "python",
   "nbconvert_exporter": "python",
   "pygments_lexer": "ipython3",
   "version": "3.6.10"
  }
 },
 "nbformat": 4,
 "nbformat_minor": 4
}
